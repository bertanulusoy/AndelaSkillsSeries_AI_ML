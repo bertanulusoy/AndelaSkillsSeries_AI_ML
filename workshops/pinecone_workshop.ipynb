{
 "cells": [
  {
   "cell_type": "markdown",
   "source": [
    "# Pinecone"
   ],
   "metadata": {
    "collapsed": false
   },
   "id": "beee76d2b13d6601"
  },
  {
   "cell_type": "markdown",
   "source": [
    "#### Load the environment variables"
   ],
   "metadata": {
    "collapsed": false
   },
   "id": "aa0f41547275b88b"
  },
  {
   "cell_type": "code",
   "execution_count": null,
   "id": "initial_id",
   "metadata": {
    "collapsed": true
   },
   "outputs": [],
   "source": [
    "# Create a .env file in the current directory and add the API Key of the service name\n",
    "from dotenv import load_dotenv, find_dotenv\n",
    "load_dotenv(find_dotenv(), override=True)"
   ]
  },
  {
   "cell_type": "markdown",
   "source": [
    "#### The installation of Pinecone is as follows:"
   ],
   "metadata": {
    "collapsed": false
   },
   "id": "f2d7a13f5f9ca60f"
  },
  {
   "cell_type": "code",
   "outputs": [],
   "source": [
    "# pip install -q pinecone-client\n",
    "# pip install --upgrade -q pinecone-client \n",
    "# pip show pinecone-client"
   ],
   "metadata": {
    "collapsed": false,
    "ExecuteTime": {
     "end_time": "2024-03-10T10:34:34.339927Z",
     "start_time": "2024-03-10T10:34:34.336409Z"
    }
   },
   "id": "c1964eee165271b9",
   "execution_count": 4
  },
  {
   "cell_type": "markdown",
   "source": [
    "#### The following code is used to list all the indexes in the Pinecone database"
   ],
   "metadata": {
    "collapsed": false
   },
   "id": "d62873da9ebdb587"
  },
  {
   "cell_type": "code",
   "outputs": [],
   "source": [
    "from pinecone import Pinecone\n",
    "pc = Pinecone()"
   ],
   "metadata": {
    "collapsed": false,
    "ExecuteTime": {
     "end_time": "2024-03-10T10:34:36.003502Z",
     "start_time": "2024-03-10T10:34:35.997625Z"
    }
   },
   "id": "3c71ea669a445ad2",
   "execution_count": 5
  },
  {
   "cell_type": "markdown",
   "source": [
    "## Working with Indexes"
   ],
   "metadata": {
    "collapsed": false
   },
   "id": "64390559f6370307"
  },
  {
   "cell_type": "markdown",
   "source": [
    "#### List all the indexes in the Pinecone database"
   ],
   "metadata": {
    "collapsed": false
   },
   "id": "b4fcc75e44ab3b1d"
  },
  {
   "cell_type": "code",
   "outputs": [],
   "source": [
    "pc.list_indexes()"
   ],
   "metadata": {
    "collapsed": false
   },
   "id": "d6d3564b1ec34205",
   "execution_count": null
  },
  {
   "cell_type": "code",
   "outputs": [],
   "source": [
    "pc.list_indexes().names()"
   ],
   "metadata": {
    "collapsed": false
   },
   "id": "83b967fe830da860",
   "execution_count": null
  },
  {
   "cell_type": "markdown",
   "source": [
    "#### Create an index on Pinecone"
   ],
   "metadata": {
    "collapsed": false
   },
   "id": "524f9594e1fd9d6a"
  },
  {
   "cell_type": "code",
   "outputs": [],
   "source": [
    "from pinecone import PodSpec\n",
    "# Define an index name on Pinecone\n",
    "index_name = 'my_index_name'\n",
    "\n",
    "if index_name not in pc.list_indexes().names():\n",
    "    # If the index does not exist, create it on Pinecone\n",
    "    print(f'Creating index {index_name}')\n",
    "    pc.create_index(\n",
    "        name=index_name,\n",
    "        dimension=1536,\n",
    "        metric='cosine',\n",
    "        spec=PodSpec(\n",
    "            environment='gcp-starter'\n",
    "        )\n",
    "    )\n",
    "    print('Index created!')\n",
    "else:\n",
    "    print(f'Index {index_name} already exist!')\n"
   ],
   "metadata": {
    "collapsed": false
   },
   "id": "f1839580d8659ecf",
   "execution_count": null
  },
  {
   "cell_type": "markdown",
   "source": [
    "#### Delete an index on Pinecone"
   ],
   "metadata": {
    "collapsed": false
   },
   "id": "67c7306d391579c4"
  },
  {
   "cell_type": "code",
   "outputs": [],
   "source": [
    "index_name = 'my_index_name'\n",
    "if index_name in pc.list_indexes().names():\n",
    "    print(f'Deleting index {index_name}')\n",
    "    pc.delete_index(index_name)\n",
    "    print('Done')\n",
    "else:\n",
    "    print(f'Index {index_name} does not exist!')"
   ],
   "metadata": {
    "collapsed": false
   },
   "id": "e4d554a98e0dc483",
   "execution_count": null
  },
  {
   "cell_type": "markdown",
   "source": [
    "#### Selecting Index; to perform any operation with an index, you must first select the index."
   ],
   "metadata": {
    "collapsed": false
   },
   "id": "a6aaabb611dc2718"
  },
  {
   "cell_type": "code",
   "outputs": [],
   "source": [
    "index_name = 'my_index_name'\n",
    "index = pc.Index(index_name)"
   ],
   "metadata": {
    "collapsed": false
   },
   "id": "c9448579b8190d80",
   "execution_count": null
  },
  {
   "cell_type": "markdown",
   "source": [
    "#### Describe the index statistics; the number of vectors, the number of namespaces, and the total size of the index and dimension of the index"
   ],
   "metadata": {
    "collapsed": false
   },
   "id": "31c987e229b76c47"
  },
  {
   "cell_type": "code",
   "outputs": [],
   "source": [
    "index.describe_index_stats()"
   ],
   "metadata": {
    "collapsed": false
   },
   "id": "a3d035e3734ea428"
  },
  {
   "cell_type": "markdown",
   "source": [
    "## Working with Vectors"
   ],
   "metadata": {
    "collapsed": false
   },
   "id": "645835afb0c12558"
  },
  {
   "cell_type": "markdown",
   "source": [
    "#### Define 5 vectors each of them has a size of 1536 as an example"
   ],
   "metadata": {
    "collapsed": false
   },
   "id": "bfbf23d93095295"
  },
  {
   "cell_type": "code",
   "outputs": [],
   "source": [
    "import random\n",
    "\n",
    "vectors = [[random.random() for _ in range(1536)] for v in range(5)]\n",
    "vectors"
   ],
   "metadata": {
    "collapsed": false
   },
   "id": "1b2e6ec273a31c31",
   "execution_count": null
  },
  {
   "cell_type": "markdown",
   "source": [
    "#### Inserting vectors"
   ],
   "metadata": {
    "collapsed": false
   },
   "id": "5ab60642cd423787"
  },
  {
   "cell_type": "code",
   "outputs": [],
   "source": [
    "# To insert a vector, first, we need to create the ids list that each character represents a vector. Since there are 5 vectors, we're creating a list with five elements which represent the IDs.\n",
    "ids = list('abcde')\n",
    "\n",
    "# select the index on Pinecone\n",
    "index_name = 'my_index_name'\n",
    "index = pc.Index(index_name)\n",
    "\n",
    "# The upsert is a single operation that can be used to insert a new value or update an existing value if it already exists. Before inserting them we're mapping each vector with its ids by using `zip` built-in function\n",
    "index.upsert(vectors=zip(ids, vectors))"
   ],
   "metadata": {
    "collapsed": false
   },
   "id": "1e9bc261e1f0baa",
   "execution_count": null
  },
  {
   "cell_type": "markdown",
   "source": [
    "#### Updating the vectors"
   ],
   "metadata": {
    "collapsed": false
   },
   "id": "2c1abc3476daab2b"
  },
  {
   "cell_type": "code",
   "outputs": [],
   "source": [
    "# This is an example of updating each element of 'c' vector.\n",
    "index.upsert(vectors=[('c', [0.5] * 1536)])"
   ],
   "metadata": {
    "collapsed": false
   },
   "id": "d525c6609bbfa319",
   "execution_count": null
  },
  {
   "cell_type": "markdown",
   "source": [
    "#### Fetching the vector by ID"
   ],
   "metadata": {
    "collapsed": false
   },
   "id": "62dcdaa5b963566c"
  },
  {
   "cell_type": "code",
   "outputs": [],
   "source": [
    "index.fetch(ids=['d'])"
   ],
   "metadata": {
    "collapsed": false
   },
   "id": "da10a375dbf62f5f",
   "execution_count": null
  },
  {
   "cell_type": "markdown",
   "source": [
    "#### Deleting vectors by ID"
   ],
   "metadata": {
    "collapsed": false
   },
   "id": "714408abecba6945"
  },
  {
   "cell_type": "code",
   "outputs": [],
   "source": [
    "# That will delete both 'b' and 'd' vectors on the index\n",
    "index.delete(ids=['b', 'd'])"
   ],
   "metadata": {
    "collapsed": false
   },
   "id": "9719d51351c0f053",
   "execution_count": null
  },
  {
   "cell_type": "code",
   "outputs": [],
   "source": [
    "# Always check the index after each changes on the index.\n",
    "index.describe_index_stats()"
   ],
   "metadata": {
    "collapsed": false
   },
   "id": "de11ab70ebe3cbd7",
   "execution_count": null
  },
  {
   "cell_type": "markdown",
   "source": [
    "## Query "
   ],
   "metadata": {
    "collapsed": false
   },
   "id": "f3dad65fa0be00ba"
  },
  {
   "cell_type": "code",
   "outputs": [],
   "source": [
    "# Creating a query vector with random decimal numbers of a size 1536\n",
    "query_vector = [random.random() for _ in range(1536)]"
   ],
   "metadata": {
    "collapsed": false
   },
   "id": "6305ff10f826c26",
   "execution_count": null
  },
  {
   "cell_type": "markdown",
   "source": [
    "The query operation will retreive the IDs of the most similar vectors in the index, along with their similarity scores."
   ],
   "metadata": {
    "collapsed": false
   },
   "id": "e415408f7a63185f"
  },
  {
   "cell_type": "code",
   "outputs": [],
   "source": [
    "index.query(\n",
    "    vector=query_vector,\n",
    "    top_k=3, # The number of results to return\n",
    "    include_values=False\n",
    ")"
   ],
   "metadata": {
    "collapsed": false
   },
   "id": "f8fb656493aa7a07",
   "execution_count": null
  },
  {
   "cell_type": "markdown",
   "source": [
    "## Namespaces\n",
    "Pinecone allows you to partition the vectors in an index into namespaces.\n",
    "\n",
    "Queries and other operations are scoped to a specific namespace, allowing diferent requests to search different subsets of your index.\n",
    "\n",
    "Imagine you are dealing with news articles. You might want to create a namespace for indexing articles by content and another for indexing articles by title.\n",
    "\n",
    "`Key information` about namespaces:\n",
    "* Every index consists of one or more namespaces.\n",
    "* Each vector exists in exactly one namespace.\n",
    "* Namespaces are uniquely identified by a namespace name.\n",
    "* The default namespace is represented by the empty string and is used if no specific namespace is specified."
   ],
   "metadata": {
    "collapsed": false
   },
   "id": "b800dba6fd75b979"
  },
  {
   "cell_type": "markdown",
   "source": [
    "#### Create the first vectors with a default namespace on the index"
   ],
   "metadata": {
    "collapsed": false
   },
   "id": "af27fcc9d66f824c"
  },
  {
   "cell_type": "code",
   "outputs": [],
   "source": [
    "# Select the index\n",
    "index = pc.Index('my_index_name')\n",
    "\n",
    "import random\n",
    "vectors = [[random.random() for _ in range(1536)] for v in range(5)]\n",
    "ids = list('abcde')\n",
    "index.upsert(vectors=zip(ids, vectors))"
   ],
   "metadata": {
    "collapsed": false
   },
   "id": "eb13fb654661e823",
   "execution_count": null
  },
  {
   "cell_type": "markdown",
   "source": [
    "#### Create the second vectors with a namespace `second-namespace` on the index"
   ],
   "metadata": {
    "collapsed": false
   },
   "id": "fe66b351569ba76"
  },
  {
   "cell_type": "code",
   "outputs": [],
   "source": [
    "vectors = [[random.random() for _ in range(1536)] for v in range(2)]\n",
    "ids = list('qp')\n",
    "index.upsert(vectors=zip(ids, vectors), namespace='second-namespace')"
   ],
   "metadata": {
    "collapsed": false
   },
   "id": "7f12c7430324db4",
   "execution_count": null
  },
  {
   "cell_type": "code",
   "outputs": [],
   "source": [
    "# Get the description of the index\n",
    "index.describe_index_stats()"
   ],
   "metadata": {
    "collapsed": false
   },
   "id": "c39e882d12846b4c",
   "execution_count": null
  },
  {
   "cell_type": "code",
   "outputs": [],
   "source": [
    "# Fetch 'q' vector from the `second-namespace`\n",
    "index.fetch(ids=['q'], namespace='second-namespace')"
   ],
   "metadata": {
    "collapsed": false
   },
   "id": "b70acb826b380dd1",
   "execution_count": null
  },
  {
   "cell_type": "code",
   "outputs": [],
   "source": [
    "# Delete a vector\n",
    "index.delete(ids=['q'], namespace='second-namespace')"
   ],
   "metadata": {
    "collapsed": false
   },
   "id": "1bec5f5980fac167",
   "execution_count": null
  },
  {
   "cell_type": "code",
   "outputs": [],
   "source": [
    "# Delete all records from a namespace. Deleting all records from a namespace also deletes the namespace itself\n",
    "index.delete(delete_all=True, namespace='second-namespace')"
   ],
   "metadata": {
    "collapsed": false
   },
   "id": "98842bb9682b0c6e",
   "execution_count": null
  },
  {
   "cell_type": "code",
   "outputs": [],
   "source": [
    "# Get the description of the index\n",
    "index.describe_index_stats()"
   ],
   "metadata": {
    "collapsed": false
   },
   "id": "4c68cfc221f3f310",
   "execution_count": null
  }
 ],
 "metadata": {
  "kernelspec": {
   "display_name": "Python 3",
   "language": "python",
   "name": "python3"
  },
  "language_info": {
   "codemirror_mode": {
    "name": "ipython",
    "version": 2
   },
   "file_extension": ".py",
   "mimetype": "text/x-python",
   "name": "python",
   "nbconvert_exporter": "python",
   "pygments_lexer": "ipython2",
   "version": "2.7.6"
  }
 },
 "nbformat": 4,
 "nbformat_minor": 5
}
