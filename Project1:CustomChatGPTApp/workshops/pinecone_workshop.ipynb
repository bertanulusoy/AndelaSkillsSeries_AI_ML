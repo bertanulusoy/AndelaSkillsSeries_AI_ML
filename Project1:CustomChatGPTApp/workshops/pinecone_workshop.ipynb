{
 "cells": [
  {
   "cell_type": "markdown",
   "id": "beee76d2b13d6601",
   "metadata": {
    "collapsed": false
   },
   "source": [
    "# Pinecone"
   ]
  },
  {
   "cell_type": "markdown",
   "id": "aa0f41547275b88b",
   "metadata": {
    "collapsed": false
   },
   "source": [
    "#### Load the environment variables"
   ]
  },
  {
   "cell_type": "code",
   "execution_count": 1,
   "id": "initial_id",
   "metadata": {},
   "outputs": [
    {
     "data": {
      "text/plain": [
       "True"
      ]
     },
     "execution_count": 1,
     "metadata": {},
     "output_type": "execute_result"
    }
   ],
   "source": [
    "# Create a .env file in the current directory and add the API Key of the service name\n",
    "from dotenv import load_dotenv, find_dotenv\n",
    "load_dotenv(find_dotenv(), override=True)"
   ]
  },
  {
   "cell_type": "markdown",
   "id": "f2d7a13f5f9ca60f",
   "metadata": {
    "collapsed": false
   },
   "source": [
    "#### The installation of Pinecone is as follows:"
   ]
  },
  {
   "cell_type": "code",
   "execution_count": 2,
   "id": "c1964eee165271b9",
   "metadata": {
    "ExecuteTime": {
     "end_time": "2024-03-10T10:34:34.339927Z",
     "start_time": "2024-03-10T10:34:34.336409Z"
    },
    "collapsed": false
   },
   "outputs": [],
   "source": [
    "# pip install -q pinecone-client\n",
    "# pip install --upgrade -q pinecone-client \n",
    "# pip show pinecone-client"
   ]
  },
  {
   "cell_type": "markdown",
   "id": "d62873da9ebdb587",
   "metadata": {
    "collapsed": false
   },
   "source": [
    "#### The following code is used to list all the indexes in the Pinecone database"
   ]
  },
  {
   "cell_type": "code",
   "execution_count": 3,
   "id": "3c71ea669a445ad2",
   "metadata": {
    "ExecuteTime": {
     "end_time": "2024-03-10T10:34:36.003502Z",
     "start_time": "2024-03-10T10:34:35.997625Z"
    },
    "collapsed": false
   },
   "outputs": [],
   "source": [
    "from pinecone import Pinecone\n",
    "pc = Pinecone()"
   ]
  },
  {
   "cell_type": "markdown",
   "id": "64390559f6370307",
   "metadata": {
    "collapsed": false
   },
   "source": [
    "## Working with Indexes"
   ]
  },
  {
   "cell_type": "markdown",
   "id": "b4fcc75e44ab3b1d",
   "metadata": {
    "collapsed": false
   },
   "source": [
    "#### List all the indexes in the Pinecone database"
   ]
  },
  {
   "cell_type": "code",
   "execution_count": null,
   "id": "d6d3564b1ec34205",
   "metadata": {
    "collapsed": false
   },
   "outputs": [],
   "source": [
    "pc.list_indexes()"
   ]
  },
  {
   "cell_type": "code",
   "execution_count": null,
   "id": "83b967fe830da860",
   "metadata": {
    "collapsed": false
   },
   "outputs": [],
   "source": [
    "pc.list_indexes().names()"
   ]
  },
  {
   "cell_type": "markdown",
   "id": "524f9594e1fd9d6a",
   "metadata": {
    "collapsed": false
   },
   "source": [
    "#### Create an index on Pinecone"
   ]
  },
  {
   "cell_type": "code",
   "execution_count": null,
   "id": "f1839580d8659ecf",
   "metadata": {
    "collapsed": false
   },
   "outputs": [],
   "source": [
    "from pinecone import PodSpec\n",
    "# Define an index name on Pinecone\n",
    "index_name = 'my_index_name'\n",
    "\n",
    "if index_name not in pc.list_indexes().names():\n",
    "    # If the index does not exist, create it on Pinecone\n",
    "    print(f'Creating index {index_name}')\n",
    "    pc.create_index(\n",
    "        name=index_name,\n",
    "        dimension=1536,\n",
    "        metric='cosine',\n",
    "        spec=PodSpec(\n",
    "            environment='gcp-starter'\n",
    "        )\n",
    "    )\n",
    "    print('Index created!')\n",
    "else:\n",
    "    print(f'Index {index_name} already exist!')\n"
   ]
  },
  {
   "cell_type": "markdown",
   "id": "67c7306d391579c4",
   "metadata": {
    "collapsed": false
   },
   "source": [
    "#### Delete an index on Pinecone"
   ]
  },
  {
   "cell_type": "code",
   "execution_count": null,
   "id": "e4d554a98e0dc483",
   "metadata": {
    "collapsed": false
   },
   "outputs": [],
   "source": [
    "index_name = 'my_index_name'\n",
    "if index_name in pc.list_indexes().names():\n",
    "    print(f'Deleting index {index_name}')\n",
    "    pc.delete_index(index_name)\n",
    "    print('Done')\n",
    "else:\n",
    "    print(f'Index {index_name} does not exist!')"
   ]
  },
  {
   "cell_type": "markdown",
   "id": "a6aaabb611dc2718",
   "metadata": {
    "collapsed": false
   },
   "source": [
    "#### Selecting Index; to perform any operation with an index, you must first select the index."
   ]
  },
  {
   "cell_type": "code",
   "execution_count": null,
   "id": "c9448579b8190d80",
   "metadata": {
    "collapsed": false
   },
   "outputs": [],
   "source": [
    "index_name = 'my_index_name'\n",
    "index = pc.Index(index_name)"
   ]
  },
  {
   "cell_type": "markdown",
   "id": "31c987e229b76c47",
   "metadata": {
    "collapsed": false
   },
   "source": [
    "#### Describe the index statistics; the number of vectors, the number of namespaces, and the total size of the index and dimension of the index"
   ]
  },
  {
   "cell_type": "code",
   "execution_count": null,
   "id": "a3d035e3734ea428",
   "metadata": {
    "collapsed": false
   },
   "outputs": [],
   "source": [
    "index.describe_index_stats()"
   ]
  },
  {
   "cell_type": "markdown",
   "id": "645835afb0c12558",
   "metadata": {
    "collapsed": false
   },
   "source": [
    "## Working with Vectors"
   ]
  },
  {
   "cell_type": "markdown",
   "id": "bfbf23d93095295",
   "metadata": {
    "collapsed": false
   },
   "source": [
    "#### Define 5 vectors each of them has a size of 1536 as an example"
   ]
  },
  {
   "cell_type": "code",
   "execution_count": null,
   "id": "1b2e6ec273a31c31",
   "metadata": {
    "collapsed": false
   },
   "outputs": [],
   "source": [
    "import random\n",
    "\n",
    "vectors = [[random.random() for _ in range(1536)] for v in range(5)]\n",
    "vectors"
   ]
  },
  {
   "cell_type": "markdown",
   "id": "5ab60642cd423787",
   "metadata": {
    "collapsed": false
   },
   "source": [
    "#### Inserting vectors"
   ]
  },
  {
   "cell_type": "code",
   "execution_count": null,
   "id": "1e9bc261e1f0baa",
   "metadata": {
    "collapsed": false
   },
   "outputs": [],
   "source": [
    "# To insert a vector, first, we need to create the ids list that each character represents a vector. Since there are 5 vectors, we're creating a list with five elements which represent the IDs.\n",
    "ids = list('abcde')\n",
    "\n",
    "# select the index on Pinecone\n",
    "index_name = 'my_index_name'\n",
    "index = pc.Index(index_name)\n",
    "\n",
    "# The upsert is a single operation that can be used to insert a new value or update an existing value if it already exists. Before inserting them we're mapping each vector with its ids by using `zip` built-in function\n",
    "index.upsert(vectors=zip(ids, vectors))"
   ]
  },
  {
   "cell_type": "markdown",
   "id": "2c1abc3476daab2b",
   "metadata": {
    "collapsed": false
   },
   "source": [
    "#### Updating the vectors"
   ]
  },
  {
   "cell_type": "code",
   "execution_count": null,
   "id": "d525c6609bbfa319",
   "metadata": {
    "collapsed": false
   },
   "outputs": [],
   "source": [
    "# This is an example of updating each element of 'c' vector.\n",
    "index.upsert(vectors=[('c', [0.5] * 1536)])"
   ]
  },
  {
   "cell_type": "markdown",
   "id": "62dcdaa5b963566c",
   "metadata": {
    "collapsed": false
   },
   "source": [
    "#### Fetching the vector by ID"
   ]
  },
  {
   "cell_type": "code",
   "execution_count": null,
   "id": "da10a375dbf62f5f",
   "metadata": {
    "collapsed": false
   },
   "outputs": [],
   "source": [
    "index.fetch(ids=['d'])"
   ]
  },
  {
   "cell_type": "markdown",
   "id": "714408abecba6945",
   "metadata": {
    "collapsed": false
   },
   "source": [
    "#### Deleting vectors by ID"
   ]
  },
  {
   "cell_type": "code",
   "execution_count": null,
   "id": "9719d51351c0f053",
   "metadata": {
    "collapsed": false
   },
   "outputs": [],
   "source": [
    "# That will delete both 'b' and 'd' vectors on the index\n",
    "index.delete(ids=['b', 'd'])"
   ]
  },
  {
   "cell_type": "code",
   "execution_count": null,
   "id": "de11ab70ebe3cbd7",
   "metadata": {
    "collapsed": false
   },
   "outputs": [],
   "source": [
    "# Always check the index after each changes on the index.\n",
    "index.describe_index_stats()"
   ]
  },
  {
   "cell_type": "markdown",
   "id": "f3dad65fa0be00ba",
   "metadata": {
    "collapsed": false
   },
   "source": [
    "## Query "
   ]
  },
  {
   "cell_type": "code",
   "execution_count": null,
   "id": "6305ff10f826c26",
   "metadata": {
    "collapsed": false
   },
   "outputs": [],
   "source": [
    "# Creating a query vector with random decimal numbers of a size 1536\n",
    "query_vector = [random.random() for _ in range(1536)]"
   ]
  },
  {
   "cell_type": "markdown",
   "id": "e415408f7a63185f",
   "metadata": {
    "collapsed": false
   },
   "source": [
    "The query operation will retreive the IDs of the most similar vectors in the index, along with their similarity scores."
   ]
  },
  {
   "cell_type": "code",
   "execution_count": null,
   "id": "f8fb656493aa7a07",
   "metadata": {
    "collapsed": false
   },
   "outputs": [],
   "source": [
    "index.query(\n",
    "    vector=query_vector,\n",
    "    top_k=3, # The number of results to return\n",
    "    include_values=False\n",
    ")"
   ]
  },
  {
   "cell_type": "markdown",
   "id": "b800dba6fd75b979",
   "metadata": {
    "collapsed": false
   },
   "source": [
    "## Namespaces\n",
    "Pinecone allows you to partition the vectors in an index into namespaces.\n",
    "\n",
    "Queries and other operations are scoped to a specific namespace, allowing diferent requests to search different subsets of your index.\n",
    "\n",
    "Imagine you are dealing with news articles. You might want to create a namespace for indexing articles by content and another for indexing articles by title.\n",
    "\n",
    "`Key information` about namespaces:\n",
    "* Every index consists of one or more namespaces.\n",
    "* Each vector exists in exactly one namespace.\n",
    "* Namespaces are uniquely identified by a namespace name.\n",
    "* The default namespace is represented by the empty string and is used if no specific namespace is specified."
   ]
  },
  {
   "cell_type": "markdown",
   "id": "af27fcc9d66f824c",
   "metadata": {
    "collapsed": false
   },
   "source": [
    "#### Create the first vectors with a default namespace on the index"
   ]
  },
  {
   "cell_type": "code",
   "execution_count": null,
   "id": "eb13fb654661e823",
   "metadata": {
    "collapsed": false
   },
   "outputs": [],
   "source": [
    "# Select the index\n",
    "index = pc.Index('my_index_name')\n",
    "\n",
    "import random\n",
    "vectors = [[random.random() for _ in range(1536)] for v in range(5)]\n",
    "ids = list('abcde')\n",
    "index.upsert(vectors=zip(ids, vectors))"
   ]
  },
  {
   "cell_type": "markdown",
   "id": "fe66b351569ba76",
   "metadata": {
    "collapsed": false
   },
   "source": [
    "#### Create the second vectors with a namespace `second-namespace` on the index"
   ]
  },
  {
   "cell_type": "code",
   "execution_count": null,
   "id": "7f12c7430324db4",
   "metadata": {
    "collapsed": false
   },
   "outputs": [],
   "source": [
    "vectors = [[random.random() for _ in range(1536)] for v in range(2)]\n",
    "ids = list('qp')\n",
    "index.upsert(vectors=zip(ids, vectors), namespace='second-namespace')"
   ]
  },
  {
   "cell_type": "code",
   "execution_count": null,
   "id": "c39e882d12846b4c",
   "metadata": {
    "collapsed": false
   },
   "outputs": [],
   "source": [
    "# Get the description of the index\n",
    "index.describe_index_stats()"
   ]
  },
  {
   "cell_type": "code",
   "execution_count": null,
   "id": "b70acb826b380dd1",
   "metadata": {
    "collapsed": false
   },
   "outputs": [],
   "source": [
    "# Fetch 'q' vector from the `second-namespace`\n",
    "index.fetch(ids=['q'], namespace='second-namespace')"
   ]
  },
  {
   "cell_type": "code",
   "execution_count": null,
   "id": "1bec5f5980fac167",
   "metadata": {
    "collapsed": false
   },
   "outputs": [],
   "source": [
    "# Delete a vector\n",
    "index.delete(ids=['q'], namespace='second-namespace')"
   ]
  },
  {
   "cell_type": "code",
   "execution_count": null,
   "id": "98842bb9682b0c6e",
   "metadata": {
    "collapsed": false
   },
   "outputs": [],
   "source": [
    "# Delete all records from a namespace. Deleting all records from a namespace also deletes the namespace itself\n",
    "index.delete(delete_all=True, namespace='second-namespace')"
   ]
  },
  {
   "cell_type": "code",
   "execution_count": null,
   "id": "4c68cfc221f3f310",
   "metadata": {
    "collapsed": false
   },
   "outputs": [],
   "source": [
    "# Get the description of the index\n",
    "index.describe_index_stats()"
   ]
  }
 ],
 "metadata": {
  "kernelspec": {
   "display_name": "Python 3 (ipykernel)",
   "language": "python",
   "name": "python3"
  },
  "language_info": {
   "codemirror_mode": {
    "name": "ipython",
    "version": 3
   },
   "file_extension": ".py",
   "mimetype": "text/x-python",
   "name": "python",
   "nbconvert_exporter": "python",
   "pygments_lexer": "ipython3",
   "version": "3.12.0"
  }
 },
 "nbformat": 4,
 "nbformat_minor": 5
}
